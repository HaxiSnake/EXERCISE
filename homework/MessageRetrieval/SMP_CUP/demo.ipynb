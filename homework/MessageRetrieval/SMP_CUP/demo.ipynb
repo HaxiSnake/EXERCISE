{
 "cells": [
  {
   "cell_type": "code",
   "execution_count": 1,
   "metadata": {},
   "outputs": [],
   "source": [
    "'''\n",
    "该程序可以对语料进行简单处理，使用TFIDF特征及逻辑回归算法进行三个任务的预测\n",
    "将输出文件temp.csv，将该文件提交到评测系统中，可得到baseline的结果\n",
    "该程序运行需要4个文件\n",
    "train/train_status.txt\n",
    "train/train_labels.txt\n",
    "valid/valid_status.txt\n",
    "valid/valid_nolabel.txt\n",
    "'''\n",
    "provsString='''\n",
    "    东北,辽宁,吉林,黑龙江\n",
    "    华北,河北,山西,内蒙古,北京,天津\n",
    "    华东,山东,江苏,安徽,浙江,台湾,福建,江西,上海\n",
    "    华中,河南,湖北,湖南\n",
    "    华南,广东,广西,海南,香港,澳门\n",
    "    西南,云南,重庆,贵州,四川,西藏\n",
    "    西北,新疆,陕西,宁夏,青海,甘肃\n",
    "    境外,其他,海外\n",
    "    None,None\n",
    "    '''\n",
    "provs={}\n",
    "for line in provsString.split('\\n'):\n",
    "    items=line.split(',')\n",
    "    for item in items[1:]:\n",
    "        provs[item]=items[0].strip()\n",
    "    \n",
    "def map_age(x):\n",
    "    x=int(x)\n",
    "    if x>=1990:\n",
    "        return '1990+'\n",
    "    elif x<1980:\n",
    "        return '1979-'\n",
    "    else:\n",
    "        return '1980-1989'\n",
    "    \n",
    "def map_location(x):\n",
    "    x=x.split(' ')[0]\n",
    "    return provs[x]\n",
    "    "
   ]
  },
  {
   "cell_type": "markdown",
   "metadata": {},
   "source": [
    "# 从文件中读取语料并整理，将同一个人发的微博连在一起"
   ]
  },
  {
   "cell_type": "code",
   "execution_count": 2,
   "metadata": {},
   "outputs": [],
   "source": [
    "import pandas as pd\n",
    "#读取训练集\n",
    "train_file=map(lambda x:x.split(',',maxsplit=5),\n",
    "               open('train/train_status.txt',encoding='utf8'))\n",
    "\n",
    "valid_labels=set(map(lambda x:x.strip(),open('valid/valid_nolabel.txt')))\n",
    "valid_file=filter(lambda x:x[0] in valid_labels,\n",
    "                  map(lambda x:x.split(',',maxsplit=5),\n",
    "                      open('valid/valid_status.txt',encoding='utf8')))\n",
    "\n",
    "df=pd.DataFrame(data=list(train_file)+list(valid_file),\n",
    "                columns='id,review,forward,source,time,content'.split(','),)"
   ]
  },
  {
   "cell_type": "code",
   "execution_count": 3,
   "metadata": {},
   "outputs": [],
   "source": [
    "#读取训练集标注\n",
    "labels=pd.read_csv('train/train_labels.txt',sep='\\|\\|',encoding='utf8',engine='python',\n",
    "                   names='id,gender,age,location'.split(','))\n",
    "\n",
    "labels.age=labels.age.apply(map_age)\n",
    "labels.location=labels.location.apply(map_location)\n",
    "\n"
   ]
  },
  {
   "cell_type": "code",
   "execution_count": 4,
   "metadata": {},
   "outputs": [
    {
     "name": "stdout",
     "output_type": "stream",
     "text": [
      "(3200, 4)\n"
     ]
    }
   ],
   "source": [
    "print(labels.shape)"
   ]
  },
  {
   "cell_type": "code",
   "execution_count": 5,
   "metadata": {},
   "outputs": [],
   "source": [
    "#按id进行合并微博内容\n",
    "X=pd.DataFrame(df.groupby(by='id',sort=False).content.sum()).reset_index()\n",
    "X.id=X.id.astype(int)\n",
    "\n",
    "data=pd.merge(X,labels,on='id',how='left')"
   ]
  },
  {
   "cell_type": "markdown",
   "metadata": {},
   "source": [
    "# 从文本中抽取TFIDF特征"
   ]
  },
  {
   "cell_type": "code",
   "execution_count": 6,
   "metadata": {},
   "outputs": [],
   "source": [
    "from sklearn.feature_extraction.text import TfidfVectorizer\n",
    "\n",
    "tfidf=TfidfVectorizer(max_features=10000)\n",
    "\n",
    "f_tfidf=tfidf.fit_transform(data.content)"
   ]
  },
  {
   "cell_type": "markdown",
   "metadata": {},
   "source": [
    "# 训练逻辑回归分类器，并进行预测"
   ]
  },
  {
   "cell_type": "code",
   "execution_count": 6,
   "metadata": {},
   "outputs": [
    {
     "name": "stderr",
     "output_type": "stream",
     "text": [
      "D:\\ProgramData\\Anaconda3\\lib\\site-packages\\sklearn\\linear_model\\logistic.py:433: FutureWarning: Default solver will be changed to 'lbfgs' in 0.22. Specify a solver to silence this warning.\n",
      "  FutureWarning)\n",
      "D:\\ProgramData\\Anaconda3\\lib\\site-packages\\sklearn\\linear_model\\logistic.py:460: FutureWarning: Default multi_class will be changed to 'auto' in 0.22. Specify the multi_class option to silence this warning.\n",
      "  \"this warning.\", FutureWarning)\n"
     ]
    }
   ],
   "source": [
    "from sklearn.linear_model.logistic import LogisticRegression as LR\n",
    "from sklearn.svm import SVC\n",
    "from sklearn.ensemble import RandomForestClassifier as RF\n",
    "from sklearn.ensemble import GradientBoostingClassifier as GBDT\n",
    "from sklearn.ensemble import AdaBoostClassifier as AdaBoost\n",
    "from sklearn.ensemble import BaggingClassifier \n",
    "from sklearn.ensemble import ExtraTreesClassifier\n",
    "\n",
    "valid_data=data[3200:].reset_index()\n",
    "\n",
    "clf=LR()\n",
    "clf.fit(f_tfidf[:3200],data.gender[:3200])\n",
    "valid_data.gender=clf.predict(f_tfidf[3200:])\n",
    "\n",
    "clf=LR()\n",
    "clf.fit(f_tfidf[:3200],data.age[:3200])\n",
    "valid_data.age=clf.predict(f_tfidf[3200:])\n",
    "\n",
    "clf=LR()\n",
    "clf.fit(f_tfidf[:3200],data.location[:3200])\n",
    "valid_data.location=clf.predict(f_tfidf[3200:])"
   ]
  },
  {
   "cell_type": "code",
   "execution_count": 9,
   "metadata": {},
   "outputs": [],
   "source": [
    "from sklearn.linear_model.logistic import LogisticRegression as LR\n",
    "from sklearn.svm import SVC\n",
    "from sklearn.ensemble import RandomForestClassifier as RF\n",
    "from sklearn.ensemble import GradientBoostingClassifier as GBDT\n",
    "from sklearn.ensemble import AdaBoostClassifier as AdaBoost\n",
    "from sklearn.ensemble import BaggingClassifier \n",
    "from sklearn.ensemble import ExtraTreesClassifier\n",
    "\n",
    "valid_data=data[3200:].reset_index()\n",
    "\n",
    "clf=GBDT(n_estimators=256,learning_rate=0.1,max_depth=6)\n",
    "clf.fit(f_tfidf[:3200],data.gender[:3200])\n",
    "valid_data.gender=clf.predict(f_tfidf[3200:])\n",
    "\n",
    "clf=GBDT(n_estimators=256,learning_rate=0.1,max_depth=6)\n",
    "clf.fit(f_tfidf[:3200],data.age[:3200])\n",
    "valid_data.age=clf.predict(f_tfidf[3200:])\n",
    "\n",
    "clf=GBDT(n_estimators=256,learning_rate=0.1,max_depth=6)\n",
    "clf.fit(f_tfidf[:3200],data.location[:3200])\n",
    "valid_data.location=clf.predict(f_tfidf[3200:])\n",
    "valid_data.loc[:,['id','age','gender','location']].to_csv('gbdt.csv',index=False)"
   ]
  },
  {
   "cell_type": "code",
   "execution_count": 7,
   "metadata": {},
   "outputs": [],
   "source": [
    "from sklearn.linear_model.logistic import LogisticRegression as LR\n",
    "from sklearn.svm import SVC\n",
    "from sklearn.ensemble import RandomForestClassifier as RF\n",
    "from sklearn.ensemble import GradientBoostingClassifier as GBDT\n",
    "from sklearn.ensemble import AdaBoostClassifier as AdaBoost\n",
    "from sklearn.ensemble import BaggingClassifier \n",
    "from sklearn.ensemble import ExtraTreesClassifier\n",
    "\n",
    "valid_data=data[3200:].reset_index()\n",
    "\n",
    "clf=AdaBoost(n_estimators=128,learning_rate=0.1)\n",
    "clf.fit(f_tfidf[:3200],data.gender[:3200])\n",
    "valid_data.gender=clf.predict(f_tfidf[3200:])\n",
    "\n",
    "clf=AdaBoost(n_estimators=128,learning_rate=0.1)\n",
    "clf.fit(f_tfidf[:3200],data.age[:3200])\n",
    "valid_data.age=clf.predict(f_tfidf[3200:])\n",
    "\n",
    "clf=AdaBoost(n_estimators=128,learning_rate=0.1)\n",
    "clf.fit(f_tfidf[:3200],data.location[:3200])\n",
    "valid_data.location=clf.predict(f_tfidf[3200:])\n",
    "valid_data.loc[:,['id','age','gender','location']].to_csv('gbdt.csv',index=False)"
   ]
  },
  {
   "cell_type": "markdown",
   "metadata": {},
   "source": [
    "# 输出到temp.csv"
   ]
  },
  {
   "cell_type": "code",
   "execution_count": 7,
   "metadata": {},
   "outputs": [],
   "source": [
    "valid_data.loc[:,['id','age','gender','location']].to_csv('temp.csv',index=False)"
   ]
  },
  {
   "cell_type": "code",
   "execution_count": null,
   "metadata": {
    "collapsed": true
   },
   "outputs": [],
   "source": []
  }
 ],
 "metadata": {
  "anaconda-cloud": {},
  "kernelspec": {
   "display_name": "Python 3",
   "language": "python",
   "name": "python3"
  },
  "language_info": {
   "codemirror_mode": {
    "name": "ipython",
    "version": 3
   },
   "file_extension": ".py",
   "mimetype": "text/x-python",
   "name": "python",
   "nbconvert_exporter": "python",
   "pygments_lexer": "ipython3",
   "version": "3.6.5"
  }
 },
 "nbformat": 4,
 "nbformat_minor": 1
}
